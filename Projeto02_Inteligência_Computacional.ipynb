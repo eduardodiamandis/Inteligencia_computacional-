{
  "nbformat": 4,
  "nbformat_minor": 0,
  "metadata": {
    "colab": {
      "provenance": []
    },
    "kernelspec": {
      "name": "python3",
      "display_name": "Python 3"
    },
    "language_info": {
      "name": "python"
    }
  },
  "cells": [
    {
      "cell_type": "code",
      "source": [
        "import numpy as np\n",
        "\n",
        "class AntColony:\n",
        "    def __init__(self, distances, n_ants, n_best, n_iterations, decay, alpha=1, beta=1):\n",
        "        self.distances  = distances\n",
        "        self.pheromone = np.ones(self.distances.shape) / len(distances)\n",
        "        self.all_inds = range(len(distances))\n",
        "        self.n_ants = n_ants\n",
        "        self.n_best = n_best\n",
        "        self.n_iterations = n_iterations\n",
        "        self.decay = decay\n",
        "        self.alpha = alpha\n",
        "        self.beta = beta\n",
        "\n",
        "    def run(self):\n",
        "        shortest_path = None\n",
        "        all_time_shortest_path = (\"placeholder\", np.inf)\n",
        "        for i in range(self.n_iterations):\n",
        "            all_paths = self.gen_all_paths()\n",
        "            self.spread_pheronome(all_paths, self.n_best,\n",
        "                                  shortest_path=shortest_path)\n",
        "            shortest_path = min(all_paths, key=lambda x: x[1])\n",
        "            if shortest_path[1] < all_time_shortest_path[1]:\n",
        "                all_time_shortest_path = shortest_path\n",
        "            self.pheromone *= self.decay\n",
        "        return all_time_shortest_path\n",
        "\n",
        "    def spread_pheronome(self, all_paths, n_best, shortest_path):\n",
        "        sorted_paths = sorted(all_paths, key=lambda x: x[1])\n",
        "        for path, dist in sorted_paths[:n_best]:\n",
        "            for move in path:\n",
        "                self.pheromone[move] += 1.0 / self.distances[move]\n",
        "\n",
        "    def gen_path_dist(self, path):\n",
        "        total_dist = 0\n",
        "        for ele in path:\n",
        "            total_dist += self.distances[ele]\n",
        "        return total_dist\n",
        "\n",
        "    def gen_all_paths(self):\n",
        "        all_paths = []\n",
        "        for i in range(self.n_ants):\n",
        "            path = self.gen_path(0)\n",
        "            all_paths.append((path, self.gen_path_dist(path)))\n",
        "        return all_paths\n",
        "\n",
        "    def gen_path(self, start):\n",
        "        path = []\n",
        "        visited = set()\n",
        "        visited.add(start)\n",
        "        prev = start\n",
        "        for i in range(len(self.distances) - 1):\n",
        "            move = self.pick_move(self.pheromone[prev],\n",
        "                                  self.distances[prev], visited)\n",
        "            path.append((prev, move))\n",
        "            prev = move\n",
        "            visited.add(move)\n",
        "        path.append((prev, start)) # retorno para a cidade de origem\n",
        "        return path\n",
        "\n",
        "    def pick_move(self, pheromone, dists, visited):\n",
        "        pheromone = np.copy(pheromone)\n",
        "        pheromone[list(visited)] = 0\n",
        "\n",
        "        row = pheromone ** self.alpha * (( 1.0 / dists) ** self.beta)\n",
        "\n",
        "        norm_row = row / row.sum()\n",
        "        move = np.random.choice(self.all_inds, 1, p=norm_row)[0]\n",
        "        return move"
      ],
      "metadata": {
        "id": "wufYWRXaikYb"
      },
      "execution_count": null,
      "outputs": []
    },
    {
      "cell_type": "code",
      "execution_count": null,
      "metadata": {
        "colab": {
          "base_uri": "https://localhost:8080/"
        },
        "id": "XCLVheLpibX0",
        "outputId": "6b5ac4c3-4aac-42d4-8b37-e20984af246a"
      },
      "outputs": [
        {
          "output_type": "stream",
          "name": "stdout",
          "text": [
            "Melhor caminho: ([(0, 1), (1, 3), (3, 2), (2, 0)], 8.0)\n"
          ]
        }
      ],
      "source": [
        "distances = np.array([[0.0001, 2, 2, 5],\n",
        "                      [2, 0.0001, 4, 1],\n",
        "                      [2, 4, 0.0001, 3],\n",
        "                      [5, 1, 3, 0.0001]])\n",
        "ant_colony = AntColony(distances, 3, 3, 100, 0.95, alpha=1, beta=2)\n",
        "shortest_path = ant_colony.run()\n",
        "print(\"Melhor caminho:\", shortest_path)"
      ]
    },
    {
      "cell_type": "code",
      "source": [
        "distances = np.array([[0.0001, 5,      1,      8,      np.inf, np.inf],\n",
        "                      [5,      0.0001, np.inf, 2,      np.inf, np.inf],\n",
        "                      [1,      np.inf, 0.0001, np.inf, 1,      7],\n",
        "                      [8,      1,      np.inf, 0.0001, np.inf, 1],\n",
        "                      [np.inf, np.inf, 1,      np.inf, 0.0001, 6],\n",
        "                      [np.inf, np.inf, 7,      1,      6,      0.0001]])\n",
        "ant_colony = AntColony(distances, 3, 3, 100, 0.95, alpha=1, beta=2)\n",
        "shortest_path = ant_colony.run()\n",
        "print(\"Melhor caminho:\", shortest_path)"
      ],
      "metadata": {
        "colab": {
          "base_uri": "https://localhost:8080/"
        },
        "id": "fDEyRq4pjCwG",
        "outputId": "3b18935b-dc8a-47a9-aba9-b3cf12f945c3"
      },
      "execution_count": null,
      "outputs": [
        {
          "output_type": "stream",
          "name": "stdout",
          "text": [
            "Melhor caminho: ([(0, 2), (2, 4), (4, 5), (5, 3), (3, 1), (1, 0)], 15.0)\n"
          ]
        }
      ]
    },
    {
      "cell_type": "code",
      "source": [],
      "metadata": {
        "id": "Rx7YsCUfngjH"
      },
      "execution_count": null,
      "outputs": []
    }
  ]
}